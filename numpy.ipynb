{
  "nbformat": 4,
  "nbformat_minor": 0,
  "metadata": {
    "colab": {
      "provenance": [],
      "authorship_tag": "ABX9TyMn+d8YM7+hsHKFWIoWODi7",
      "include_colab_link": true
    },
    "kernelspec": {
      "name": "python3",
      "display_name": "Python 3"
    },
    "language_info": {
      "name": "python"
    }
  },
  "cells": [
    {
      "cell_type": "markdown",
      "metadata": {
        "id": "view-in-github",
        "colab_type": "text"
      },
      "source": [
        "<a href=\"https://colab.research.google.com/github/sumi2426/numpy/blob/main/numpy.ipynb\" target=\"_parent\"><img src=\"https://colab.research.google.com/assets/colab-badge.svg\" alt=\"Open In Colab\"/></a>"
      ]
    },
    {
      "cell_type": "code",
      "execution_count": 2,
      "metadata": {
        "colab": {
          "base_uri": "https://localhost:8080/"
        },
        "id": "sVGB5WlAFbB8",
        "outputId": "faf5d45b-68d1-4ae7-b15f-598f88b6b937"
      },
      "outputs": [
        {
          "output_type": "execute_result",
          "data": {
            "text/plain": [
              "array([1., 2., 3., 4.])"
            ]
          },
          "metadata": {},
          "execution_count": 2
        }
      ],
      "source": [
        "import numpy as np #numerical python\n",
        "#array collection of datawith same datatype(homogenious)\n",
        "a=np.array([1,2,3.0,4])\n",
        "a"
      ]
    },
    {
      "cell_type": "code",
      "source": [
        "a=np.array([1,2,3.0,4,\"a\"])\n",
        "print(a)"
      ],
      "metadata": {
        "colab": {
          "base_uri": "https://localhost:8080/"
        },
        "id": "kdcDMGr_G__a",
        "outputId": "add4ddb1-c78e-4ea2-a9a3-d8b0a937e6c5"
      },
      "execution_count": null,
      "outputs": [
        {
          "output_type": "stream",
          "name": "stdout",
          "text": [
            "['1' '2' '3.0' '4' 'a']\n"
          ]
        }
      ]
    },
    {
      "cell_type": "code",
      "source": [
        "#slicing- forward slicing,backward slicing\n",
        "\n",
        "b=np.array([1,2,3,4,5])\n",
        "#print 1,2\n",
        "print(b[0:2])\n",
        "#print 5,4\n",
        "print(b[-1:-3:-1])\n",
        "#print 4,5\n",
        "print(b[3::])\n",
        "#print 2,1\n",
        "print(b[-4::-1])\n"
      ],
      "metadata": {
        "colab": {
          "base_uri": "https://localhost:8080/"
        },
        "id": "PvJ8tKyZHO1n",
        "outputId": "5906b216-71e6-4a5f-ba24-41eb34798aa9"
      },
      "execution_count": null,
      "outputs": [
        {
          "output_type": "stream",
          "name": "stdout",
          "text": [
            "[1 2]\n",
            "[5 4]\n",
            "[4 5]\n",
            "[2 1]\n"
          ]
        }
      ]
    },
    {
      "cell_type": "code",
      "source": [
        "#dimensions\n",
        "\n",
        "a=np.array([0,2,3,4,5])\n",
        "b=np.array([[1,2],[3,4]])\n",
        "a.ndim  #dimension=1 vector\n",
        "b.ndim  #dimension=2 matrix\n",
        "print(b)\n",
        "b.shape"
      ],
      "metadata": {
        "colab": {
          "base_uri": "https://localhost:8080/"
        },
        "id": "kkEz7iAMJJvs",
        "outputId": "8df748a6-bfa9-4ebc-ba6a-7d826e3dd780"
      },
      "execution_count": null,
      "outputs": [
        {
          "output_type": "stream",
          "name": "stdout",
          "text": [
            "[[1 2]\n",
            " [3 4]]\n"
          ]
        },
        {
          "output_type": "execute_result",
          "data": {
            "text/plain": [
              "(2, 2)"
            ]
          },
          "metadata": {},
          "execution_count": 18
        }
      ]
    },
    {
      "cell_type": "code",
      "source": [
        "#create a 2x2 matrix 2,3\n",
        "                    #4,5\n",
        "z=np.array([[2,3],[4,5]])\n",
        "print(z)\n",
        "print(z.shape)     #to show 2x2 matrix\n",
        "print(z.ndim)\n",
        "print(z.size)      #to show the no: of elements"
      ],
      "metadata": {
        "colab": {
          "base_uri": "https://localhost:8080/"
        },
        "id": "2Pjxx0UbKftP",
        "outputId": "47a30d79-d8a6-4ab9-ee96-539e596e607e"
      },
      "execution_count": null,
      "outputs": [
        {
          "output_type": "stream",
          "name": "stdout",
          "text": [
            "[[2 3]\n",
            " [4 5]]\n",
            "(2, 2)\n",
            "2\n",
            "4\n"
          ]
        }
      ]
    },
    {
      "cell_type": "code",
      "source": [
        "#create a 2x3 matrix and print,size,shape,dimension\n",
        "\n",
        "s=np.array([[1,2,3],[3,4,5]])\n",
        "print(s)\n",
        "print(s.size)\n",
        "print(s.shape)\n",
        "print(s.ndim)"
      ],
      "metadata": {
        "colab": {
          "base_uri": "https://localhost:8080/"
        },
        "id": "RmTcMwp-LamV",
        "outputId": "9eca9438-9b00-4a42-d07e-7e56cf9c1d01"
      },
      "execution_count": null,
      "outputs": [
        {
          "output_type": "stream",
          "name": "stdout",
          "text": [
            "[[1 2 3]\n",
            " [3 4 5]]\n",
            "6\n",
            "(2, 3)\n",
            "2\n"
          ]
        }
      ]
    },
    {
      "cell_type": "code",
      "source": [
        "#create a 4x2 matrix display its size, shape,dimesions\n",
        "\n",
        "s=np.array([[1,2],[3,4],[5,6],[7,8]])\n",
        "print(s)\n",
        "print(s.size)\n",
        "print(s.shape)\n",
        "print(s.ndim)"
      ],
      "metadata": {
        "colab": {
          "base_uri": "https://localhost:8080/"
        },
        "id": "mWRUuRURMVPS",
        "outputId": "c8cf11f3-8960-4962-ef27-ccc6d05bea8f"
      },
      "execution_count": null,
      "outputs": [
        {
          "output_type": "stream",
          "name": "stdout",
          "text": [
            "[[1 2]\n",
            " [3 4]\n",
            " [5 6]\n",
            " [7 8]]\n",
            "8\n",
            "(4, 2)\n"
          ]
        }
      ]
    },
    {
      "cell_type": "code",
      "source": [
        "#create a 4x4\n",
        "\n",
        "a=np.array([[1,2,3,4],[2,5,6,8],[3,7,9,0],[2,6,8,4]])\n",
        "print(a)\n",
        "print(a.ndim)\n",
        "print(a.size)\n",
        "print(a.shape)"
      ],
      "metadata": {
        "colab": {
          "base_uri": "https://localhost:8080/"
        },
        "id": "5T-EUHxvNanL",
        "outputId": "d0b366dc-cf73-4d18-eae1-4eb2aa3f94fa"
      },
      "execution_count": null,
      "outputs": [
        {
          "output_type": "stream",
          "name": "stdout",
          "text": [
            "[[1 2 3 4]\n",
            " [2 5 6 8]\n",
            " [3 7 9 0]\n",
            " [2 6 8 4]]\n",
            "2\n",
            "16\n",
            "(4, 4)\n"
          ]
        }
      ]
    },
    {
      "cell_type": "code",
      "source": [
        "a=np.arange(1,10).reshape(3,3)\n",
        "print(a)\n",
        "a.max(axis=1)\n",
        "a.max(axis=0)\n",
        "a.min()\n",
        "a.min(axis=1)\n",
        "a.min(axis=0)\n",
        "a.sum()\n",
        "a.sum(axis=1)\n",
        "a.sum(axis=0)\n",
        "np.sqrt(a)\n",
        "np.sin(a)\n",
        "np.cos(a)\n",
        "np.tan(a)\n",
        "#flatten= to convert to one dimensional array\n",
        "a.flatten()"
      ],
      "metadata": {
        "colab": {
          "base_uri": "https://localhost:8080/"
        },
        "id": "-5f8pVFAjMEi",
        "outputId": "a2ff93e1-0699-4d7f-8112-46bbfa1f5037"
      },
      "execution_count": 5,
      "outputs": [
        {
          "output_type": "stream",
          "name": "stdout",
          "text": [
            "[[1 2 3]\n",
            " [4 5 6]\n",
            " [7 8 9]]\n"
          ]
        },
        {
          "output_type": "execute_result",
          "data": {
            "text/plain": [
              "array([1, 2, 3, 4, 5, 6, 7, 8, 9])"
            ]
          },
          "metadata": {},
          "execution_count": 5
        }
      ]
    },
    {
      "cell_type": "code",
      "source": [
        "#sort\n",
        "#create 3x3 matrix\n",
        "a=np.array([[3,4,1],[4,6,7],[3,6,8]])\n",
        "a.ndim\n",
        "print(a)\n",
        "b=np.sort(a,axis=1)     #0 to sort column wise\n",
        "b                       #1 to sort row wise\n",
        "print(b)\n",
        "c=np.argsort(a,axis=1)  #to show index\n",
        "print(c)"
      ],
      "metadata": {
        "colab": {
          "base_uri": "https://localhost:8080/"
        },
        "id": "_mmX3fGdld77",
        "outputId": "483ef7be-6e3f-4a49-b859-e1d6d531978d"
      },
      "execution_count": 12,
      "outputs": [
        {
          "output_type": "stream",
          "name": "stdout",
          "text": [
            "[[3 4 1]\n",
            " [4 6 7]\n",
            " [3 6 8]]\n",
            "[[1 3 4]\n",
            " [4 6 7]\n",
            " [3 6 8]]\n",
            "[[2 0 1]\n",
            " [0 1 2]\n",
            " [0 1 2]]\n"
          ]
        }
      ]
    }
  ]
}